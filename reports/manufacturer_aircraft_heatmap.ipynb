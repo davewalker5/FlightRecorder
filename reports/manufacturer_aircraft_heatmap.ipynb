{
 "cells": [
  {
   "attachments": {},
   "cell_type": "markdown",
   "id": "f884b3da",
   "metadata": {},
   "source": [
    "# Manufacturer / Aircraft Type Heatmap\n",
    "\n",
    "This notebook produces a heatmap of manufacturers by aicraft models.\n",
    "\n",
    "Individual models within a family are grouped:\n",
    "\n",
    "- e.g. Both A320-214 and A320-232 will appear under the \"A320\" family\n",
    "- Aircraft with fewer sightings than the configured threshold are assigned to the \"Other\" family\n",
    "\n",
    "To use the notebook, set the threshold value and export format for charts in the first code cell before running the notebook."
   ]
  },
  {
   "cell_type": "code",
   "execution_count": null,
   "id": "2cd4e27a",
   "metadata": {},
   "outputs": [],
   "source": [
    "# Sightings threshold below which aircraft are assigned to a generic \"Other\" group\n",
    "prefix_count_threshold = 100\n",
    "\n",
    "# Export format for the heatmap:\n",
    "# PNG     - export as PNG image\n",
    "# PDF     - export as PDF file\n",
    "# <blank> - do not export\n",
    "export_format = \"PNG\""
   ]
  },
  {
   "cell_type": "code",
   "execution_count": null,
   "id": "db1cb3b7",
   "metadata": {},
   "outputs": [],
   "source": [
    "from pathlib import Path\n",
    "import sqlparse\n",
    "\n",
    "# Read the query file\n",
    "query_file_path = Path(\"sql\") / \"sightings.sql\"\n",
    "with open(query_file_path.absolute(), \"r\") as f:\n",
    "    query = f.read().replace(\"\\n\", \" \")\n",
    "\n",
    "# Show a pretty-printed form of the query\n",
    "print(sqlparse.format(query, reindent=True, keyword_case=\"upper\"))"
   ]
  },
  {
   "cell_type": "code",
   "execution_count": null,
   "id": "be42deb2",
   "metadata": {},
   "outputs": [],
   "source": [
    "import pandas as pd\n",
    "import sqlite3\n",
    "import os\n",
    "\n",
    "# Connect to the database, execute the query and read the results into a dataframe\n",
    "database_path = os.environ[\"FLIGHT_RECORDER_DB\"]\n",
    "connection = sqlite3.connect(database_path)\n",
    "df = pd.read_sql_query(query, connection, parse_dates=[\"Date\"])\n",
    "\n",
    "# Check there is some data\n",
    "if not df.shape[0]:\n",
    "    message = f\"No data found\"\n",
    "    raise ValueError(message)\n",
    "\n",
    "# Preview the data\n",
    "df.head()"
   ]
  },
  {
   "cell_type": "code",
   "execution_count": null,
   "id": "c3b5b912",
   "metadata": {},
   "outputs": [],
   "source": [
    "import re\n",
    "\n",
    "def extract_prefix(model):\n",
    "    # Try extracting leading letters and digits (e.g., \"A320\", \"B737\")\n",
    "    match = re.match(r\"^([A-Z]+[0-9]+)\", str(model).replace(\" \", \"\").upper())\n",
    "    prefix = match.group(1) if match else None\n",
    "\n",
    "    # If this doesn\"t result in a prefix, try just splitting on the first \"-\"\n",
    "    if not prefix:\n",
    "        tokens = model.split(\"-\", 1)\n",
    "        prefix = tokens[0] if len(tokens) > 1 else None\n",
    "\n",
    "    # On its own, the above can result in some nonsensical prefixes so check we do have some numbers in\n",
    "    # to indicate the model\n",
    "    if prefix and not any(char.isdigit() for char in prefix):\n",
    "        prefix = None\n",
    "\n",
    "    return prefix\n",
    "\n",
    "# Extract an aircraft type prefix for each sighting\n",
    "df[\"Type\"] = df[\"Model\"].apply(extract_prefix)\n",
    "\n",
    "# Preview the data\n",
    "df.head()"
   ]
  },
  {
   "cell_type": "code",
   "execution_count": null,
   "id": "5e0be6da",
   "metadata": {},
   "outputs": [],
   "source": [
    "# Identify counts by prefix and use them to identify common prefixes\n",
    "prefix_counts = df[\"Type\"].value_counts()\n",
    "common_prefixes = prefix_counts[prefix_counts >= prefix_count_threshold].index\n",
    "\n",
    "# Replace uncommon prefixes with \"Other\"\n",
    "df[\"Type\"] = df.apply(\n",
    "    lambda row: row[\"Type\"] if row[\"Type\"] in common_prefixes else \"Other\",\n",
    "    axis=1\n",
    ")\n",
    "\n",
    "# Preview the data\n",
    "df.head()"
   ]
  },
  {
   "cell_type": "code",
   "execution_count": null,
   "id": "875073a3",
   "metadata": {},
   "outputs": [],
   "source": [
    "# Generate the pivot table to act as the source data\n",
    "pivot_table = df.pivot_table(\n",
    "    index=\"Manufacturer\",\n",
    "    columns=\"Type\",\n",
    "    values=\"Id\",\n",
    "    aggfunc=\"count\",\n",
    "    fill_value=0\n",
    ")"
   ]
  },
  {
   "cell_type": "code",
   "execution_count": null,
   "id": "a4caaedc",
   "metadata": {},
   "outputs": [],
   "source": [
    "import pandas as pd\n",
    "from pathlib import Path\n",
    "\n",
    "# Create the folder to hold exported reports\n",
    "export_folder_path = Path(\"exported\")\n",
    "export_folder_path.mkdir(parents=True, exist_ok=True)\n",
    "\n",
    "# Create a Pandas Excel writer\n",
    "export_file_name = \"Manufacturer-Model-Heatmap\"\n",
    "output_path = export_folder_path / f\"{export_file_name}.xlsx\"\n",
    "\n",
    "with pd.ExcelWriter(output_path.absolute(), engine=\"openpyxl\") as writer:\n",
    "    # Monthly data\n",
    "    pivot_table.to_excel(writer, sheet_name=\"Pivot Table\", index=False)"
   ]
  },
  {
   "cell_type": "code",
   "execution_count": null,
   "id": "23aeeb69",
   "metadata": {},
   "outputs": [],
   "source": [
    "import matplotlib.pyplot as plt\n",
    "import seaborn as sns\n",
    "\n",
    "# Plot the heatmap\n",
    "plt.figure(figsize=(12, pivot_table.shape[0] / 3))\n",
    "sns.heatmap(pivot_table, annot=False, fmt=\"d\", cmap=\"YlOrRd\")\n",
    "plt.title(\"Aircraft Sightings by Manufacturer and Group (Auto-Generated)\")\n",
    "plt.ylabel(\"Manufacturer\")\n",
    "plt.xlabel(\"Aircraft Group\")\n",
    "plt.xticks(rotation=90)\n",
    "plt.tight_layout()\n",
    "\n",
    "# Export to PNG\n",
    "if export_format.casefold() == \"png\":\n",
    "    export_file_path = export_folder_path / f\"{export_file_name}.png\"\n",
    "    plt.savefig(export_file_path.absolute(), format=\"png\", dpi=300, bbox_inches=\"tight\")\n",
    "\n",
    "# Export to PDF\n",
    "if export_format.casefold() == \"pdf\":\n",
    "    export_file_path = export_folder_path / f\"{export_file_name}.pdf\"\n",
    "    plt.savefig(export_file_path.absolute(), format=\"pdf\", bbox_inches=\"tight\")\n",
    "\n",
    "# Show the plot\n",
    "plt.show()"
   ]
  }
 ],
 "metadata": {
  "kernelspec": {
   "display_name": "Python 3",
   "language": "python",
   "name": "python3"
  },
  "language_info": {
   "codemirror_mode": {
    "name": "ipython",
    "version": 3
   },
   "file_extension": ".py",
   "mimetype": "text/x-python",
   "name": "python",
   "nbconvert_exporter": "python",
   "pygments_lexer": "ipython3",
   "version": "3.13.2"
  },
  "vscode": {
   "interpreter": {
    "hash": "7a792fcb311f9eb9f3c1b942a8c87ada8484712b89b670347c16a1088e0a1f69"
   }
  }
 },
 "nbformat": 4,
 "nbformat_minor": 5
}
