{
 "cells": [
  {
   "attachments": {},
   "cell_type": "markdown",
   "metadata": {},
   "source": [
    "# Aircraft Sightings Over Time\n",
    "\n",
    "This notebook calculates and exports:\n",
    "\n",
    "- Daily and daily rolling average aircraft sightings over time\n",
    "- Monthly sightings over time\n",
    "- Yearly sightings over time\n",
    "\n",
    "To use it, set the daily rolling average window length and the export format for the charts in the first code cell before running the notebook."
   ]
  },
  {
   "cell_type": "code",
   "execution_count": null,
   "metadata": {},
   "outputs": [],
   "source": [
    "# Window for daily rolling average calculation\n",
    "window = 7\n",
    "\n",
    "# Export format for the charts:\n",
    "# PNG     - export as PNG image\n",
    "# PDF     - export as PDF file\n",
    "# <blank> - do not export\n",
    "export_format = \"PNG\""
   ]
  },
  {
   "cell_type": "code",
   "execution_count": null,
   "metadata": {},
   "outputs": [],
   "source": [
    "from pathlib import Path\n",
    "import sqlparse\n",
    "\n",
    "# Read the query file\n",
    "query_file_path = Path(\"sql\") / \"sightings.sql\"\n",
    "with open(query_file_path.absolute(), \"r\") as f:\n",
    "    query = f.read().replace(\"\\n\", \" \")\n",
    "\n",
    "# Show a pretty-printed form of the query\n",
    "print(sqlparse.format(query, reindent=True, keyword_case='upper'))"
   ]
  },
  {
   "cell_type": "code",
   "execution_count": null,
   "metadata": {},
   "outputs": [],
   "source": [
    "import pandas as pd\n",
    "import sqlite3\n",
    "import os\n",
    "\n",
    "# Connect to the database, execute the query and read the results into a dataframe\n",
    "database_path = os.environ[\"FLIGHT_RECORDER_DB\"]\n",
    "connection = sqlite3.connect(database_path)\n",
    "df = pd.read_sql_query(query, connection, parse_dates=[\"Date\"])\n",
    "\n",
    "# Check there is some data\n",
    "if not df.shape[0]:\n",
    "    message = f\"No data found\"\n",
    "    raise ValueError(message)"
   ]
  },
  {
   "cell_type": "code",
   "execution_count": null,
   "metadata": {},
   "outputs": [],
   "source": [
    "# Aggregate sightings\n",
    "daily = df.groupby(df[\"Date\"].dt.date).size().rename(\"Sightings\")\n",
    "monthly = df.groupby(df[\"Date\"].dt.to_period(\"M\")).size().rename(\"Sightings\")\n",
    "yearly = df.groupby(df[\"Date\"].dt.year).size().rename(\"Sightings\")\n",
    "\n",
    "# Calculate a roling average for the daily data\n",
    "daily_rolling = daily.rolling(window=window).mean()"
   ]
  },
  {
   "cell_type": "code",
   "execution_count": null,
   "metadata": {},
   "outputs": [],
   "source": [
    "# Create the folder to hold exported reports\n",
    "export_folder_path = Path(\"exported\")\n",
    "export_folder_path.mkdir(parents=True, exist_ok=True)\n",
    "\n",
    "# Create a Pandas Excel writer\n",
    "export_file_name = \"Aircraft-Sightings-Over-Time\"\n",
    "output_path = export_folder_path / f\"{export_file_name}.xlsx\"\n",
    "\n",
    "with pd.ExcelWriter(output_path.absolute(), engine=\"openpyxl\") as writer:\n",
    "    # Daily data\n",
    "    daily.to_frame(name=\"Sightings\").to_excel(writer, sheet_name=\"Daily\")\n",
    "    daily_rolling.to_frame(name=\"Sightings\").to_excel(writer, sheet_name=\"Daily Rolling Average\")\n",
    "    \n",
    "    # Monthly data (convert PeriodIndex to Timestamp)\n",
    "    monthly.index = monthly.index.to_timestamp()\n",
    "    monthly.to_frame(name=\"Sightings\").to_excel(writer, sheet_name=\"Monthly\")\n",
    "    \n",
    "    # Yearly data\n",
    "    yearly.to_frame(name=\"Sightings\").to_excel(writer, sheet_name=\"Yearly\")"
   ]
  },
  {
   "cell_type": "code",
   "execution_count": null,
   "metadata": {},
   "outputs": [],
   "source": [
    "import matplotlib.pyplot as plt\n",
    "\n",
    "# Plot the daily statistics\n",
    "plt.figure(figsize=(14, 5))\n",
    "plt.plot(daily.index, daily.values, label=\"Daily Sightings\", alpha=0.5)\n",
    "plt.plot(daily_rolling.index, daily_rolling.values, label=f\"{window}-Day Rolling Average\", color='red')\n",
    "plt.title(f\"Aircraft Sightings by Day with {window}-Day Rolling Average\")\n",
    "plt.xlabel(\"Date\")\n",
    "plt.ylabel(\"Number of Sightings\")\n",
    "plt.legend()\n",
    "plt.tight_layout()\n",
    "\n",
    "# Export to PNG\n",
    "if export_format.casefold() == \"png\":\n",
    "    export_file_path = export_folder_path / f\"{export_file_name}-Daily.png\"\n",
    "    plt.savefig(export_file_path.absolute(), format=\"png\", dpi=300, bbox_inches=\"tight\")\n",
    "\n",
    "# Export to PDF\n",
    "if export_format.casefold() == \"pdf\":\n",
    "    export_file_path = export_folder_path / f\"{export_file_name}-Daily.pdf\"\n",
    "    plt.savefig(export_file_path.absolute(), format=\"pdf\", bbox_inches=\"tight\")\n",
    "\n",
    "# Show the plot\n",
    "plt.show()"
   ]
  },
  {
   "cell_type": "code",
   "execution_count": null,
   "metadata": {},
   "outputs": [],
   "source": [
    "import numpy as np\n",
    "from scipy.stats import linregress\n",
    "\n",
    "# The monthly data index has been converted to a timestamp, above, for export\n",
    "# monthly_index = monthly.index.to_timestamp()\n",
    "x = np.arange(len(monthly_index))  # numerical x-axis for regression\n",
    "y = monthly.values\n",
    "\n",
    "# Calculate the monthly trend line\n",
    "slope, intercept, r_value, p_value, std_err = linregress(x, y)\n",
    "trend = slope * x + intercept\n",
    "\n",
    "# Plot sightings by month with trend line\n",
    "plt.figure(figsize=(14, 5))\n",
    "# plt.plot(monthly_index, y, label=\"Monthly Sightings\", marker=\"o\")\n",
    "plt.bar(monthly_index, y, width=20, label=\"Monthly Sightings\", color=\"cornflowerblue\")\n",
    "plt.plot(monthly_index, trend, label=\"Trend Line\", linestyle=\"--\", color=\"red\")\n",
    "plt.title(\"Aircraft Sightings by Month\")\n",
    "plt.xlabel(\"Month\")\n",
    "plt.ylabel(\"Number of Sightings\")\n",
    "plt.legend()\n",
    "plt.tight_layout()\n",
    "\n",
    "# Export to PNG\n",
    "if export_format.casefold() == \"png\":\n",
    "    export_file_path = export_folder_path / f\"{export_file_name}-Monthly.png\"\n",
    "    plt.savefig(export_file_path.absolute(), format=\"png\", dpi=300, bbox_inches=\"tight\")\n",
    "\n",
    "# Export to PDF\n",
    "if export_format.casefold() == \"pdf\":\n",
    "    export_file_path = export_folder_path / f\"{export_file_name}-Monthly.pdf\"\n",
    "    plt.savefig(export_file_path.absolute(), format=\"pdf\", bbox_inches=\"tight\")\n",
    "\n",
    "# Show the plot\n",
    "plt.show()"
   ]
  },
  {
   "cell_type": "code",
   "execution_count": null,
   "metadata": {},
   "outputs": [],
   "source": [
    "# Plot Sightings by Year with Trend Line\n",
    "x = yearly.index.values\n",
    "y = yearly.values\n",
    "slope, intercept, r_value, p_value, std_err = linregress(x, y)\n",
    "\n",
    "plt.figure(figsize=(10, 5))\n",
    "# sns.lineplot(x=x, y=y, marker=\"o\", label=\"Sightings per Year\")\n",
    "plt.bar(x, y, color=\"steelblue\", width=0.6, label=\"Yearly Sightings\")\n",
    "plt.plot(x, slope * x + intercept, color=\"red\", linestyle=\"--\", label=\"Trend Line\")\n",
    "plt.title(\"Aircraft Sightings by Year\")\n",
    "plt.xlabel(\"Year\")\n",
    "plt.ylabel(\"Number of Sightings\")\n",
    "plt.legend()\n",
    "plt.tight_layout()\n",
    "\n",
    "# Export to PNG\n",
    "if export_format.casefold() == \"png\":\n",
    "    export_file_path = export_folder_path / f\"{export_file_name}-Yearly.png\"\n",
    "    plt.savefig(export_file_path.absolute(), format=\"png\", dpi=300, bbox_inches=\"tight\")\n",
    "\n",
    "# Export to PDF\n",
    "if export_format.casefold() == \"pdf\":\n",
    "    export_file_path = export_folder_path / f\"{export_file_name}-Yearly.pdf\"\n",
    "    plt.savefig(export_file_path.absolute(), format=\"pdf\", bbox_inches=\"tight\")\n",
    "\n",
    "# Show the plot\n",
    "plt.show()"
   ]
  }
 ],
 "metadata": {
  "kernelspec": {
   "display_name": "venv",
   "language": "python",
   "name": "python3"
  },
  "language_info": {
   "codemirror_mode": {
    "name": "ipython",
    "version": 3
   },
   "file_extension": ".py",
   "mimetype": "text/x-python",
   "name": "python",
   "nbconvert_exporter": "python",
   "pygments_lexer": "ipython3",
   "version": "3.13.2"
  },
  "orig_nbformat": 4,
  "vscode": {
   "interpreter": {
    "hash": "93e261779403143c42e60b6e5cb7902990a95b7827f980d16abb9adcaa83378b"
   }
  }
 },
 "nbformat": 4,
 "nbformat_minor": 2
}
