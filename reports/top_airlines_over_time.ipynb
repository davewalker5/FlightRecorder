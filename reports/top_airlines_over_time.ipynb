{
 "cells": [
  {
   "attachments": {},
   "cell_type": "markdown",
   "metadata": {},
   "source": [
    "# Top Airlines Over Time\n",
    "\n",
    "This notebook calculates and exports stacked bar charts of:\n",
    "\n",
    "- Top airlines by month\n",
    "- Top airlines by year\n",
    "\n",
    "To use it, set the top 'N' value and export format for charts in the first code cell before running the notebook."
   ]
  },
  {
   "cell_type": "code",
   "execution_count": null,
   "metadata": {},
   "outputs": [],
   "source": [
    "# Top \"N\" airlines to include\n",
    "top_n = 10\n",
    "\n",
    "# Export format for the charts:\n",
    "# PNG     - export as PNG image\n",
    "# PDF     - export as PDF file\n",
    "# <blank> - do not export\n",
    "export_format = \"PNG\""
   ]
  },
  {
   "cell_type": "code",
   "execution_count": null,
   "metadata": {},
   "outputs": [],
   "source": [
    "from pathlib import Path\n",
    "import sqlparse\n",
    "\n",
    "# Read the query file\n",
    "query_file_path = Path(\"sql\") / \"sightings.sql\"\n",
    "with open(query_file_path.absolute(), \"r\") as f:\n",
    "    query = f.read().replace(\"\\n\", \" \")\n",
    "\n",
    "# Show a pretty-printed form of the query\n",
    "print(sqlparse.format(query, reindent=True, keyword_case='upper'))"
   ]
  },
  {
   "cell_type": "code",
   "execution_count": null,
   "metadata": {},
   "outputs": [],
   "source": [
    "import pandas as pd\n",
    "import sqlite3\n",
    "import os\n",
    "\n",
    "# Connect to the database, execute the query and read the results into a dataframe\n",
    "database_path = os.environ[\"FLIGHT_RECORDER_DB\"]\n",
    "connection = sqlite3.connect(database_path)\n",
    "df = pd.read_sql_query(query, connection, parse_dates=[\"Date\"])\n",
    "\n",
    "# Check there is some data\n",
    "if not df.shape[0]:\n",
    "    message = f\"No data found\"\n",
    "    raise ValueError(message)"
   ]
  },
  {
   "cell_type": "code",
   "execution_count": null,
   "metadata": {},
   "outputs": [],
   "source": [
    "import warnings\n",
    "\n",
    "# Create Year and Month columns\n",
    "df[\"Year\"] = df[\"Date\"].dt.year\n",
    "df[\"Month\"] = df[\"Date\"].dt.to_period(\"M\")\n",
    "\n",
    "# Aggregate by year, determine the top 'N' airlines and filter so only they remain\n",
    "airlines_by_year = df.groupby([\"Year\", \"Airline\"]).size().reset_index(name=\"Sightings\")\n",
    "top_n_airlines = airlines_by_year.groupby(\"Airline\")[\"Sightings\"].sum().nlargest(top_n).index\n",
    "top_yearly = airlines_by_year[airlines_by_year[\"Airline\"].isin(top_n_airlines)]\n",
    "\n",
    "# Aggregate by month and filter to leave only the top 'N' airlines\n",
    "airlines_by_month = df.groupby([\"Month\", \"Airline\"]).size().reset_index(name=\"Sightings\")\n",
    "top_monthly = airlines_by_month[airlines_by_month[\"Airline\"].isin(top_n_airlines)]\n",
    "\n",
    "# Convert 'month' Period to datetime for plotting\n",
    "warnings.simplefilter(action='ignore', category=pd.errors.SettingWithCopyWarning)\n",
    "top_monthly[\"Month\"] = top_monthly[\"Month\"].dt.to_timestamp()\n",
    "\n",
    "# Pivot the yearly data to allow a stacked bar chart plot:\n",
    "# rows = year, columns = airline\n",
    "pivoted_yearly = top_yearly.pivot(index=\"Year\", columns=\"Airline\", values=\"Sightings\").fillna(0)\n",
    "\n",
    "# Pivot the monthly data to allow a stacked bar chart plot:\n",
    "# rows = month, columns = airline, values = sightings\n",
    "# Ensure sorting by month after pivoting\n",
    "pivoted_monthly = top_monthly.pivot(index=\"Month\", columns=\"Airline\", values=\"Sightings\").fillna(0)\n",
    "pivoted_monthly = pivoted_monthly.sort_index()"
   ]
  },
  {
   "cell_type": "code",
   "execution_count": null,
   "metadata": {},
   "outputs": [],
   "source": [
    "import pandas as pd\n",
    "from pathlib import Path\n",
    "\n",
    "# Create the folder to hold exported reports\n",
    "export_folder_path = Path(\"exported\")\n",
    "export_folder_path.mkdir(parents=True, exist_ok=True)\n",
    "\n",
    "# Create a Pandas Excel writer\n",
    "export_file_name = \"Top-Airlines-Over-Time\"\n",
    "output_path = export_folder_path / f\"{export_file_name}.xlsx\"\n",
    "\n",
    "with pd.ExcelWriter(output_path.absolute(), engine=\"openpyxl\") as writer:\n",
    "    # Daily data\n",
    "    top_yearly.to_excel(writer, sheet_name=\"Yearly\", index=False)\n",
    "    \n",
    "    # Monthly data\n",
    "    top_monthly.to_excel(writer, sheet_name=\"Monthly\", index=False)"
   ]
  },
  {
   "cell_type": "code",
   "execution_count": null,
   "metadata": {},
   "outputs": [],
   "source": [
    "import matplotlib.pyplot as plt\n",
    "import seaborn as sns\n",
    "\n",
    "# Create the stacked bar chart\n",
    "plt.figure(figsize=(16, 7))\n",
    "ax = pivoted_monthly.plot(\n",
    "    kind=\"bar\",\n",
    "    stacked=True,\n",
    "    figsize=(16, 7),\n",
    "    width=0.8,\n",
    "    colormap=\"tab20\"\n",
    ")\n",
    "\n",
    "# De-clutter the X-axis labels by showing only every other one\n",
    "xticks = ax.get_xticks()\n",
    "xticklabels = [label.get_text() for label in ax.get_xticklabels()]\n",
    "new_labels = [label if i % 2 == 0 else \"\" for i, label in enumerate(xticklabels)]\n",
    "ax.set_xticklabels(new_labels, rotation=45)\n",
    "\n",
    "# Add titles, labels and legends\n",
    "plt.title(\"Top Airlines by Sightings Per Month (Stacked Bar Chart)\")\n",
    "plt.ylabel(\"Number of Sightings\")\n",
    "plt.xlabel(\"Month\")\n",
    "plt.xticks(rotation=90)\n",
    "plt.legend(title=\"Airline\", bbox_to_anchor=(1.05, 1), loc='upper left')\n",
    "plt.tight_layout()\n",
    "\n",
    "# Export to PNG\n",
    "if export_format.casefold() == \"png\":\n",
    "    export_file_path = export_folder_path / f\"{export_file_name}-Monthly.png\"\n",
    "    plt.savefig(export_file_path.absolute(), format=\"png\", dpi=300, bbox_inches=\"tight\")\n",
    "\n",
    "# Export to PDF\n",
    "if export_format.casefold() == \"pdf\":\n",
    "    export_file_path = export_folder_path / f\"{export_file_name}-Monthly.pdf\"\n",
    "    plt.savefig(export_file_path.absolute(), format=\"pdf\", bbox_inches=\"tight\")\n",
    "\n",
    "# Show the plot\n",
    "plt.show()"
   ]
  },
  {
   "cell_type": "code",
   "execution_count": null,
   "metadata": {},
   "outputs": [],
   "source": [
    "plt.figure(figsize=(12, 6))\n",
    "ax = pivoted_yearly.plot(\n",
    "    kind=\"bar\",\n",
    "    stacked=True,\n",
    "    figsize=(12, 6),\n",
    "    colormap=\"tab20\"\n",
    ")\n",
    "\n",
    "# Add titles, labels and legends\n",
    "plt.title(\"Top Airlines by Sightings Per Year\")\n",
    "plt.ylabel(\"Number of Sightings\")\n",
    "plt.xlabel(\"Year\")\n",
    "plt.xticks(rotation=0)\n",
    "plt.legend(title=\"Airline\", bbox_to_anchor=(1.05, 1), loc='upper left')\n",
    "plt.tight_layout()\n",
    "\n",
    "# Export to PNG\n",
    "if export_format.casefold() == \"png\":\n",
    "    export_file_path = export_folder_path / f\"{export_file_name}-Yearly.png\"\n",
    "    plt.savefig(export_file_path.absolute(), format=\"png\", dpi=300, bbox_inches=\"tight\")\n",
    "\n",
    "# Export to PDF\n",
    "if export_format.casefold() == \"pdf\":\n",
    "    export_file_path = export_folder_path / f\"{export_file_name}-Yearly.pdf\"\n",
    "    plt.savefig(export_file_path.absolute(), format=\"pdf\", bbox_inches=\"tight\")\n",
    "\n",
    "plt.show()\n"
   ]
  }
 ],
 "metadata": {
  "kernelspec": {
   "display_name": "venv",
   "language": "python",
   "name": "python3"
  },
  "language_info": {
   "codemirror_mode": {
    "name": "ipython",
    "version": 3
   },
   "file_extension": ".py",
   "mimetype": "text/x-python",
   "name": "python",
   "nbconvert_exporter": "python",
   "pygments_lexer": "ipython3",
   "version": "3.13.2"
  },
  "orig_nbformat": 4,
  "vscode": {
   "interpreter": {
    "hash": "93e261779403143c42e60b6e5cb7902990a95b7827f980d16abb9adcaa83378b"
   }
  }
 },
 "nbformat": 4,
 "nbformat_minor": 2
}
