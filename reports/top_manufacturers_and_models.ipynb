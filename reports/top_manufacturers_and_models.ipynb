{
 "cells": [
  {
   "attachments": {},
   "cell_type": "markdown",
   "metadata": {},
   "source": [
    "# Top Manufacturers and Aircraft Types Over Time\n",
    "\n",
    "This notebook calculates and exports pie charts of:\n",
    "\n",
    "- Top manufacturers over all time\n",
    "- Top aircraft types over all time\n",
    "\n",
    "To use it, set the top 'N' values and export format for charts in the first code cell before running the notebook."
   ]
  },
  {
   "cell_type": "code",
   "execution_count": null,
   "metadata": {},
   "outputs": [],
   "source": [
    "# Top \"N\" manufacturers and aircraft types to include\n",
    "top_n_manufacturers = 10\n",
    "top_n_models = 10\n",
    "\n",
    "# Export format for the charts:\n",
    "# PNG     - export as PNG image\n",
    "# PDF     - export as PDF file\n",
    "# <blank> - do not export\n",
    "export_format = \"PNG\""
   ]
  },
  {
   "cell_type": "code",
   "execution_count": null,
   "metadata": {},
   "outputs": [],
   "source": [
    "from pathlib import Path\n",
    "import sqlparse\n",
    "\n",
    "# Read the query file\n",
    "query_file_path = Path(\"sql\") / \"sightings.sql\"\n",
    "with open(query_file_path.absolute(), \"r\") as f:\n",
    "    query = f.read().replace(\"\\n\", \" \")\n",
    "\n",
    "# Show a pretty-printed form of the query\n",
    "print(sqlparse.format(query, reindent=True, keyword_case='upper'))"
   ]
  },
  {
   "cell_type": "code",
   "execution_count": null,
   "metadata": {},
   "outputs": [],
   "source": [
    "import pandas as pd\n",
    "import sqlite3\n",
    "import os\n",
    "\n",
    "# Connect to the database, execute the query and read the results into a dataframe\n",
    "database_path = os.environ[\"FLIGHT_RECORDER_DB\"]\n",
    "connection = sqlite3.connect(database_path)\n",
    "df = pd.read_sql_query(query, connection, parse_dates=[\"Date\"])\n",
    "\n",
    "# Check there is some data\n",
    "if not df.shape[0]:\n",
    "    message = f\"No data found\"\n",
    "    raise ValueError(message)"
   ]
  },
  {
   "cell_type": "code",
   "execution_count": null,
   "metadata": {},
   "outputs": [],
   "source": [
    "# Calculate the manufacturer and model counts\n",
    "manufacturer_counts = df[\"Manufacturer\"].value_counts().nlargest(top_n_manufacturers)\n",
    "model_counts = df[\"Model\"].value_counts().nlargest(top_n_models)"
   ]
  },
  {
   "cell_type": "code",
   "execution_count": null,
   "metadata": {},
   "outputs": [],
   "source": [
    "import pandas as pd\n",
    "from pathlib import Path\n",
    "\n",
    "# Create the folder to hold exported reports\n",
    "export_folder_path = Path(\"exported\")\n",
    "export_folder_path.mkdir(parents=True, exist_ok=True)\n",
    "\n",
    "# Create a Pandas Excel writer\n",
    "output_path = export_folder_path / f\"Top-Manufaturers-And-Aircraft.xlsx\"\n",
    "\n",
    "with pd.ExcelWriter(output_path.absolute(), engine=\"openpyxl\") as writer:\n",
    "    # Daily data\n",
    "    manufacturer_counts.to_excel(writer, sheet_name=\"Manufacturers\", index=True)\n",
    "    \n",
    "    # Monthly data\n",
    "    model_counts.to_excel(writer, sheet_name=\"Aircraft\", index=True)"
   ]
  },
  {
   "cell_type": "code",
   "execution_count": null,
   "metadata": {},
   "outputs": [],
   "source": [
    "import matplotlib.pyplot as plt\n",
    "\n",
    "# Create labels for the legend\n",
    "labels = manufacturer_counts.index\n",
    "sizes = manufacturer_counts.values\n",
    "total = sizes.sum()\n",
    "legend_labels = [f\"{label} ({size / total:.1%})\" for label, size in zip(labels, sizes)]\n",
    "\n",
    "# Create figure and axis\n",
    "fig, ax = plt.subplots(figsize=(8, 8))\n",
    "\n",
    "# Plot pie chart without labels\n",
    "wedges, texts = ax.pie(sizes, startangle=140)\n",
    "\n",
    "# Add title\n",
    "ax.set_title(f\"Top {top_n_manufacturers} Aircraft Manufacturers\")\n",
    "\n",
    "# Add legend below the chart\n",
    "ax.legend(\n",
    "    wedges,\n",
    "    legend_labels,\n",
    "    title=\"Manufacturers\",\n",
    "    loc=\"lower center\",\n",
    "    bbox_to_anchor=(0.5, -0.15),\n",
    "    ncol=2,  # Change number of columns to fit nicely\n",
    "    frameon=False\n",
    ")\n",
    "\n",
    "plt.tight_layout()\n",
    "\n",
    "# Export to PNG\n",
    "if export_format.casefold() == \"png\":\n",
    "    export_file_path = export_folder_path / f\"Top-Aircraft-Models.png\"\n",
    "    plt.savefig(export_file_path.absolute(), format=\"png\", dpi=300, bbox_inches=\"tight\")\n",
    "\n",
    "# Export to PDF\n",
    "if export_format.casefold() == \"pdf\":\n",
    "    export_file_path = export_folder_path / f\"Top-Aircraft-Models.pdf\"\n",
    "    plt.savefig(export_file_path.absolute(), format=\"pdf\", bbox_inches=\"tight\")\n",
    "\n",
    "# Show the plot\n",
    "plt.show()"
   ]
  },
  {
   "cell_type": "code",
   "execution_count": null,
   "metadata": {},
   "outputs": [],
   "source": [
    "# Create labels for the legend\n",
    "labels = model_counts.index\n",
    "sizes = model_counts.values\n",
    "total = sizes.sum()\n",
    "legend_labels = [f\"{label} ({size / total:.1%})\" for label, size in zip(labels, sizes)]\n",
    "\n",
    "# Plot pie chart without labels\n",
    "fig, ax = plt.subplots(figsize=(8, 8))\n",
    "wedges, texts = ax.pie(sizes, startangle=140)\n",
    "\n",
    "# Set the title\n",
    "ax.set_title(f\"Top {top_n_models} Aircraft Models\")\n",
    "\n",
    "# Create the legend\n",
    "ax.legend(\n",
    "    wedges,\n",
    "    legend_labels,\n",
    "    title=\"Aircraft Types\",\n",
    "    loc=\"lower center\",\n",
    "    bbox_to_anchor=(0.5, -0.15),\n",
    "    ncol=2,\n",
    "    frameon=False\n",
    ")\n",
    "\n",
    "plt.tight_layout()\n",
    "\n",
    "# Export to PNG\n",
    "if export_format.casefold() == \"png\":\n",
    "    export_file_path = export_folder_path / f\"Top-Aircraft-Manufacturers.png\"\n",
    "    plt.savefig(export_file_path.absolute(), format=\"png\", dpi=300, bbox_inches=\"tight\")\n",
    "\n",
    "# Export to PDF\n",
    "if export_format.casefold() == \"pdf\":\n",
    "    export_file_path = export_folder_path / f\"Top-Aircraft-Manufacturers.pdf\"\n",
    "    plt.savefig(export_file_path.absolute(), format=\"pdf\", bbox_inches=\"tight\")\n",
    "\n",
    "# Show the plot\n",
    "plt.show()"
   ]
  }
 ],
 "metadata": {
  "kernelspec": {
   "display_name": "venv",
   "language": "python",
   "name": "python3"
  },
  "language_info": {
   "codemirror_mode": {
    "name": "ipython",
    "version": 3
   },
   "file_extension": ".py",
   "mimetype": "text/x-python",
   "name": "python",
   "nbconvert_exporter": "python",
   "pygments_lexer": "ipython3",
   "version": "3.13.2"
  },
  "orig_nbformat": 4,
  "vscode": {
   "interpreter": {
    "hash": "93e261779403143c42e60b6e5cb7902990a95b7827f980d16abb9adcaa83378b"
   }
  }
 },
 "nbformat": 4,
 "nbformat_minor": 2
}
