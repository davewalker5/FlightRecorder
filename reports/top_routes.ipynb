{
 "cells": [
  {
   "attachments": {},
   "cell_type": "markdown",
   "metadata": {},
   "source": [
    "# Top Routes\n",
    "\n",
    "This notebook calculates and exports bar charts of:\n",
    "\n",
    "- Top routes (unidirectional) over all time\n",
    "- Top routes (bidirectional) over all time\n",
    "\n",
    "In the unidirectional chart, LHR-JFK and JFK-LHR are distinct whereas in the bidirectional chart they are the same route.\n",
    "\n",
    "To use it, set the top 'N' value and export format for charts in the first code cell before running the notebook."
   ]
  },
  {
   "cell_type": "code",
   "execution_count": null,
   "metadata": {},
   "outputs": [],
   "source": [
    "# Top \"N\" routes to include\n",
    "top_n = 20\n",
    "\n",
    "# Export format for the charts:\n",
    "# PNG     - export as PNG image\n",
    "# PDF     - export as PDF file\n",
    "# <blank> - do not export\n",
    "export_format = \"PNG\""
   ]
  },
  {
   "cell_type": "code",
   "execution_count": null,
   "metadata": {},
   "outputs": [],
   "source": [
    "from pathlib import Path\n",
    "import sqlparse\n",
    "\n",
    "# Read the query file\n",
    "query_file_path = Path(\"sql\") / \"sightings.sql\"\n",
    "with open(query_file_path.absolute(), \"r\") as f:\n",
    "    query = f.read().replace(\"\\n\", \" \")\n",
    "\n",
    "# Show a pretty-printed form of the query\n",
    "print(sqlparse.format(query, reindent=True, keyword_case=\"upper\"))"
   ]
  },
  {
   "cell_type": "code",
   "execution_count": null,
   "metadata": {},
   "outputs": [],
   "source": [
    "import pandas as pd\n",
    "import sqlite3\n",
    "import os\n",
    "\n",
    "# Connect to the database, execute the query and read the results into a dataframe\n",
    "database_path = os.environ[\"FLIGHT_RECORDER_DB\"]\n",
    "connection = sqlite3.connect(database_path)\n",
    "df = pd.read_sql_query(query, connection, parse_dates=[\"Date\"])\n",
    "\n",
    "# Check there is some data\n",
    "if not df.shape[0]:\n",
    "    message = f\"No data found\"\n",
    "    raise ValueError(message)\n",
    "\n",
    "# Preview the data\n",
    "df.head()"
   ]
  },
  {
   "cell_type": "code",
   "execution_count": null,
   "metadata": {},
   "outputs": [],
   "source": [
    "import pandas as pd\n",
    "import warnings\n",
    "\n",
    "# Remove entries where either the point of embarkation or destination aren\"t available\n",
    "warnings.simplefilter(action='ignore', category=pd.errors.SettingWithCopyWarning)\n",
    "df_cleaned = df[(df[\"Embarkation\"] != \"N/A\") & (df[\"Destination\"] != \"N/A\")]\n",
    "\n",
    "# Combine embarkation and destination into a single route column\n",
    "df_cleaned[\"Route\"] = df_cleaned[\"Embarkation\"].str.strip() + \"-\" + df_cleaned[\"Destination\"].str.strip()\n",
    "\n",
    "# Count unidirectional routes. In this scheme, LHR-JFK is different from JFK-LHR\n",
    "route_counts = df_cleaned[\"Route\"].value_counts().reset_index()\n",
    "route_counts.columns = [\"Route\", \"Sightings\"]\n",
    "\n",
    "# Define a function to normalise a route\n",
    "def normalize_route(row):\n",
    "    airports = sorted([row[\"Embarkation\"].strip(), row[\"Destination\"].strip()])\n",
    "    return f\"{airports[0]}-{airports[1]}\"\n",
    "\n",
    "# Use it to add a normalised route column to the data\n",
    "df_cleaned[\"Normalised_Route\"] = df_cleaned.apply(normalize_route, axis=1)\n",
    "\n",
    "# Count normalized route frequencies\n",
    "normalised_counts = df_cleaned[\"Normalised_Route\"].value_counts().reset_index()\n",
    "normalised_counts.columns = [\"Normalised_Route\", \"Sightings\"]"
   ]
  },
  {
   "cell_type": "code",
   "execution_count": null,
   "metadata": {},
   "outputs": [],
   "source": [
    "import pandas as pd\n",
    "from pathlib import Path\n",
    "\n",
    "# Create the folder to hold exported reports\n",
    "export_folder_path = Path(\"exported\")\n",
    "export_folder_path.mkdir(parents=True, exist_ok=True)\n",
    "\n",
    "# Create a Pandas Excel writer\n",
    "output_path = export_folder_path / f\"Top-Routes.xlsx\"\n",
    "\n",
    "with pd.ExcelWriter(output_path.absolute(), engine=\"openpyxl\") as writer:\n",
    "    # Daily data\n",
    "    route_counts.to_excel(writer, sheet_name=\"Unidirectional\", index=False)\n",
    "    \n",
    "    # Monthly data\n",
    "    normalised_counts.to_excel(writer, sheet_name=\"Bidirectional\", index=False)"
   ]
  },
  {
   "cell_type": "code",
   "execution_count": null,
   "metadata": {},
   "outputs": [],
   "source": [
    "import matplotlib.pyplot as plt\n",
    "import seaborn as sns\n",
    "\n",
    "# Generate the unidirectional bar chart\n",
    "plt.figure(figsize=(12, 6))\n",
    "sns.barplot(data=route_counts.head(top_n), x=\"Sightings\", y=\"Route\", palette=\"Blues_r\", hue=\"Route\")\n",
    "plt.title(f\"Top {top_n} Most Common Aircraft Routes (Unidirectional)\")\n",
    "plt.xlabel(\"Number of Sightings\")\n",
    "plt.ylabel(\"Route\")\n",
    "plt.tight_layout()\n",
    "\n",
    "# Export to PNG\n",
    "if export_format.casefold() == \"png\":\n",
    "    export_file_path = export_folder_path / f\"Top-Routes-Unidirectional.png\"\n",
    "    plt.savefig(export_file_path.absolute(), format=\"png\", dpi=300, bbox_inches=\"tight\")\n",
    "\n",
    "# Export to PDF\n",
    "if export_format.casefold() == \"pdf\":\n",
    "    export_file_path = export_folder_path / f\"Top-Routes-Unidirectional.pdf\"\n",
    "    plt.savefig(export_file_path.absolute(), format=\"pdf\", bbox_inches=\"tight\")\n",
    "\n",
    "# Show the chart\n",
    "plt.show()\n"
   ]
  },
  {
   "cell_type": "code",
   "execution_count": null,
   "metadata": {},
   "outputs": [],
   "source": [
    "# Generate the bidirectional bar chart\n",
    "plt.figure(figsize=(12, 6))\n",
    "sns.barplot(data=normalised_counts.head(top_n), x=\"Sightings\", y=\"Normalised_Route\", palette=\"magma\", hue=\"Normalised_Route\")\n",
    "plt.title(f\"Top {top_n} Most Common Aircraft Routes (Bidirectional)\")\n",
    "plt.xlabel(\"Number of Sightings\")\n",
    "plt.ylabel(\"Route\")\n",
    "plt.tight_layout()\n",
    "\n",
    "# Export to PNG\n",
    "if export_format.casefold() == \"png\":\n",
    "    export_file_path = export_folder_path / f\"Top-Routes-Bidirectional.png\"\n",
    "    plt.savefig(export_file_path.absolute(), format=\"png\", dpi=300, bbox_inches=\"tight\")\n",
    "\n",
    "# Export to PDF\n",
    "if export_format.casefold() == \"pdf\":\n",
    "    export_file_path = export_folder_path / f\"Top-Routes-Bidirectional.pdf\"\n",
    "    plt.savefig(export_file_path.absolute(), format=\"pdf\", bbox_inches=\"tight\")\n",
    "\n",
    "# Show the chart\n",
    "plt.show()"
   ]
  }
 ],
 "metadata": {
  "kernelspec": {
   "display_name": "venv",
   "language": "python",
   "name": "python3"
  },
  "language_info": {
   "codemirror_mode": {
    "name": "ipython",
    "version": 3
   },
   "file_extension": ".py",
   "mimetype": "text/x-python",
   "name": "python",
   "nbconvert_exporter": "python",
   "pygments_lexer": "ipython3",
   "version": "3.13.2"
  },
  "orig_nbformat": 4,
  "vscode": {
   "interpreter": {
    "hash": "93e261779403143c42e60b6e5cb7902990a95b7827f980d16abb9adcaa83378b"
   }
  }
 },
 "nbformat": 4,
 "nbformat_minor": 2
}
